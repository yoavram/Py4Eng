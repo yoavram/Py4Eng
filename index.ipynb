{
 "cells": [
  {
   "cell_type": "markdown",
   "metadata": {},
   "source": [
    "![](sessions/img/logo.png)\n",
    "\n",
    "# High Performance Computing in Python\n",
    "## [Yoav Ram](http://python.yoavram.com)"
   ]
  },
  {
   "cell_type": "markdown",
   "metadata": {},
   "source": [
    "## Day 1\n",
    "\n",
    "- Memory model | [notebook](sessions/memory-model.ipynb)\n",
    "- Concurrency: multithreading and multiprocessing | [notebook](sessions/concurrency.ipynb) | [solution](solutions/concurrency.ipynb)\n",
    "- `ctypes`: C integration | [notebook](sessions/ctypes.ipynb)\n",
    "\n",
    "## Day 2\n",
    "- `Cython`: type annotation and C interface | [notebook](sessions/cython.ipynb) | [solution](solutions/cython.ipynb)\n",
    "- `Numba`: just-in-time compilation for numerical computation | [notebook](sessions/numba.ipynb) | [solution](solutions/numba.ipynb)\n",
    "- `JAX`: automatic differentiation, just-in-time compilation, and acceleration | [notebook](sessions/jax.ipynb)\n",
    "- Profiling Python code | [notebook](sessions/profiler.ipynb)"
   ]
  },
  {
   "cell_type": "markdown",
   "metadata": {},
   "source": [
    "## Monitoring CPU\n",
    "\n",
    "To monitor CPU of your programs:\n",
    "- Open a terminal window (see above).\n",
    "- Run `htop`.\n",
    "- If `htop` is not available, you can install another program: `python -m pip install glances` and then run `glances -1 -4`."
   ]
  }
 ],
 "metadata": {
  "kernelspec": {
   "display_name": "Python [conda env:DataSciPy]",
   "language": "python",
   "name": "conda-env-DataSciPy-py"
  },
  "language_info": {
   "codemirror_mode": {
    "name": "ipython",
    "version": 3
   },
   "file_extension": ".py",
   "mimetype": "text/x-python",
   "name": "python",
   "nbconvert_exporter": "python",
   "pygments_lexer": "ipython3",
   "version": "3.12.7"
  }
 },
 "nbformat": 4,
 "nbformat_minor": 4
}
