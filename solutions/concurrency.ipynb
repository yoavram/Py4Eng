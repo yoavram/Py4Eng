{
 "cells": [
  {
   "cell_type": "markdown",
   "id": "e29d9781-1c47-4881-b2c3-4f42d03f437a",
   "metadata": {},
   "source": [
    "# Concurrency"
   ]
  },
  {
   "cell_type": "markdown",
   "id": "e36c70ad-f8f9-4100-a846-149816768c41",
   "metadata": {},
   "source": [
    "## Ex 1\n",
    "\n",
    "For reading the books:"
   ]
  },
  {
   "cell_type": "code",
   "execution_count": null,
   "id": "abd82fda-2bb2-4972-a673-89d3e236d30b",
   "metadata": {},
   "outputs": [],
   "source": [
    "with concurrent.futures.ThreadPoolExecutor() as executor:\n",
    "    books = dict(executor.map(read_book, filenames.items()))   "
   ]
  },
  {
   "cell_type": "markdown",
   "id": "90b33fca-c044-4f99-baf9-34fc00b84b6d",
   "metadata": {},
   "source": [
    "## Ex 2\n",
    "For printing process ids, see [pid.py](../solutions/pid.py) and run it with:"
   ]
  },
  {
   "cell_type": "code",
   "execution_count": 7,
   "id": "7681fcb7-539a-4fea-af95-72b2743829a6",
   "metadata": {},
   "outputs": [
    {
     "name": "stdout",
     "output_type": "stream",
     "text": [
      "Main:\n",
      "3920->7800\n",
      "Siblings:\n",
      "7800->3440\n",
      "7800->7596\n",
      "7800->3440\n",
      "7800->7596\n",
      "7800->7596\n",
      "7800->3440\n",
      "7800->7596\n",
      "7800->3852\n",
      "7800->3440\n",
      "7800->7596\n"
     ]
    }
   ],
   "source": [
    "!python ../solutions/pid.py"
   ]
  }
 ],
 "metadata": {
  "kernelspec": {
   "display_name": "Python [conda env:DataSciPy]",
   "language": "python",
   "name": "conda-env-DataSciPy-py"
  },
  "language_info": {
   "codemirror_mode": {
    "name": "ipython",
    "version": 3
   },
   "file_extension": ".py",
   "mimetype": "text/x-python",
   "name": "python",
   "nbconvert_exporter": "python",
   "pygments_lexer": "ipython3",
   "version": "3.12.7"
  }
 },
 "nbformat": 4,
 "nbformat_minor": 5
}
