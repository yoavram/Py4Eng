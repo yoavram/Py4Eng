{
 "cells": [
  {
   "cell_type": "markdown",
   "id": "5c454a8f-6024-4522-93f5-55a61426b4c7",
   "metadata": {},
   "source": [
    "# Numba"
   ]
  },
  {
   "cell_type": "markdown",
   "id": "cda4f6f8-f954-4969-9234-9ced15d80bbe",
   "metadata": {},
   "source": [
    "Mean squared error:"
   ]
  },
  {
   "cell_type": "code",
   "execution_count": 96,
   "id": "de521a63-4be8-417b-890d-00a6e2040041",
   "metadata": {},
   "outputs": [],
   "source": [
    "@numba.njit(parallel=True)\n",
    "def mse_nm(x, y):\n",
    "    n = x.shape[0]\n",
    "    s = 0\n",
    "    for i in numba.prange(n):\n",
    "        δ = x[i]-y[i]\n",
    "        s += δ*δ\n",
    "    return s / n\n",
    "mse_nm(x, y); # burn-in"
   ]
  }
 ],
 "metadata": {
  "kernelspec": {
   "display_name": "Python [conda env:DataSciPy]",
   "language": "python",
   "name": "conda-env-DataSciPy-py"
  },
  "language_info": {
   "codemirror_mode": {
    "name": "ipython",
    "version": 3
   },
   "file_extension": ".py",
   "mimetype": "text/x-python",
   "name": "python",
   "nbconvert_exporter": "python",
   "pygments_lexer": "ipython3",
   "version": "3.12.7"
  }
 },
 "nbformat": 4,
 "nbformat_minor": 5
}
