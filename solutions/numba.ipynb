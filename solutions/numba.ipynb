{
 "cells": [
  {
   "cell_type": "markdown",
   "id": "5c454a8f-6024-4522-93f5-55a61426b4c7",
   "metadata": {},
   "source": [
    "# Numba"
   ]
  },
  {
   "cell_type": "markdown",
   "id": "cda4f6f8-f954-4969-9234-9ced15d80bbe",
   "metadata": {},
   "source": [
    "Mean squared error:"
   ]
  },
  {
   "cell_type": "code",
   "execution_count": 96,
   "id": "de521a63-4be8-417b-890d-00a6e2040041",
   "metadata": {},
   "outputs": [],
   "source": [
    "@numba.njit(parallel=True)\n",
    "def mse_nm(x, y):\n",
    "    n = x.shape[0]\n",
    "    s = 0\n",
    "    for i in numba.prange(n):\n",
    "        δ = x[i]-y[i]\n",
    "        s += δ*δ\n",
    "    return s / n\n",
    "mse_nm(x, y); # burn-in"
   ]
  },
  {
   "cell_type": "markdown",
   "id": "c14d81cd-7ee6-4ff2-84fa-621399003719",
   "metadata": {},
   "source": [
    "Estimating $\\pi$"
   ]
  },
  {
   "cell_type": "code",
   "execution_count": 115,
   "id": "2cc2530d-7ffc-49b4-9202-10ce67f18cbb",
   "metadata": {},
   "outputs": [
    {
     "name": "stdout",
     "output_type": "stream",
     "text": [
      "123 μs ± 9.84 μs per loop (mean ± std. dev. of 5 runs, 10 loops each)\n"
     ]
    }
   ],
   "source": [
    "@numba.njit(parallel=True)\n",
    "def estimate_π(n):\n",
    "    accept = 0\n",
    "    for i in numba.prange(n):\n",
    "        x, y = np.random.random(), np.random.random()\n",
    "        accept += x*x + y*y < 1\n",
    "    return accept/n * 4\n",
    "    \n",
    "estimate_π(100)\n",
    "%timeit -n 10 -r 5 estimate_π(n)"
   ]
  },
  {
   "cell_type": "code",
   "execution_count": 117,
   "id": "90de7ec6-989a-4a9b-957e-a49d03f4577f",
   "metadata": {},
   "outputs": [
    {
     "name": "stdout",
     "output_type": "stream",
     "text": [
      "141 μs ± 9.86 μs per loop (mean ± std. dev. of 5 runs, 10 loops each)\n"
     ]
    }
   ],
   "source": [
    "@numba.njit(parallel=True)\n",
    "def estimate_π(n):\n",
    "    x, y = np.random.random((2, n))\n",
    "    accept = x*x + y*y < 1\n",
    "    return accept.mean()*4\n",
    "\n",
    "estimate_π(100)\n",
    "%timeit -n 10 -r 5 estimate_π(n)"
   ]
  }
 ],
 "metadata": {
  "kernelspec": {
   "display_name": "Python [conda env:DataSciPy]",
   "language": "python",
   "name": "conda-env-DataSciPy-py"
  },
  "language_info": {
   "codemirror_mode": {
    "name": "ipython",
    "version": 3
   },
   "file_extension": ".py",
   "mimetype": "text/x-python",
   "name": "python",
   "nbconvert_exporter": "python",
   "pygments_lexer": "ipython3",
   "version": "3.12.7"
  }
 },
 "nbformat": 4,
 "nbformat_minor": 5
}
