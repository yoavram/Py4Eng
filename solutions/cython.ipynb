{
 "cells": [
  {
   "cell_type": "markdown",
   "id": "922ea785-9629-4d0a-bed4-596382908fb2",
   "metadata": {},
   "source": [
    "# Cython \n",
    "\n",
    "## Exercise - difference matrix"
   ]
  },
  {
   "cell_type": "code",
   "execution_count": null,
   "id": "94084ee6-0b8d-48ff-a67b-34dd45b576a8",
   "metadata": {},
   "outputs": [],
   "source": [
    "%%cython\n",
    "cimport numpy as np\n",
    "import numpy as np\n",
    "import cython        \n",
    "        \n",
    "cdef void _cdiff_mat(double[:] x, int size, double[:,:] output):\n",
    "    cdef int i, j\n",
    "    for i in range(size):\n",
    "        for j in range(size):\n",
    "            output[i, j] = x[i] - x[j]        \n",
    "\n",
    "def cdiff_mat(double[:] x):\n",
    "    size = len(x)\n",
    "    output = np.empty((size, size))\n",
    "    _cdiff_mat2(x, size, output)\n",
    "    return output"
   ]
  }
 ],
 "metadata": {
  "kernelspec": {
   "display_name": "Python [conda env:DataSciPy]",
   "language": "python",
   "name": "conda-env-DataSciPy-py"
  },
  "language_info": {
   "codemirror_mode": {
    "name": "ipython",
    "version": 3
   },
   "file_extension": ".py",
   "mimetype": "text/x-python",
   "name": "python",
   "nbconvert_exporter": "python",
   "pygments_lexer": "ipython3",
   "version": "3.12.7"
  }
 },
 "nbformat": 4,
 "nbformat_minor": 5
}
