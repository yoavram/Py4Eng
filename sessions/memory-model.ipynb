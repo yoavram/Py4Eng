{
 "cells": [
  {
   "cell_type": "markdown",
   "metadata": {},
   "source": [
    "![Py4Eng](img/logo.png)\n",
    "\n",
    "# Memory model\n",
    "## Yoav Ram"
   ]
  },
  {
   "cell_type": "markdown",
   "metadata": {},
   "source": [
    "# Python's memory model\n",
    "\n",
    "Usually people talk about *call-by-reference* and *call-by-value* and stuff like that. \n",
    "We'll try to keep away from that, so that we don't confuse things with previous notions.\n",
    "\n",
    "We'll follow some of the stuff written by Jeff Knupp in a post called [Is Python call-by-value or call-by-reference? Neither](https://www.geeksforgeeks.org/is-python-call-by-reference-or-call-by-value/) and some of the stuff from Python's [official docs](https://docs.python.org/3.5/reference/datamodel.html).\n",
    "\n",
    "## C++ example\n",
    "\n",
    "Think about what happens when the following C++ code is executed:\n",
    "\n",
    "```c\n",
    "string some_guy = \"Fred\";\n",
    "// ...\n",
    "some_guy = \"George\";\n",
    "```\n",
    "\n",
    "The variable `some_guy` refers to a location in memory, and the value 'Fred' is inserted in that location. \n",
    "\n",
    "Later, the contents of the memory location referred to by `some_guy` are changed to 'George'. \n",
    "The previous value no longer exists; it was overwritten. \n",
    "\n",
    "## What happens in Python?\n",
    "\n",
    "In Python, [_(almost) everything is an object_](https://docs.python.org/3.5/reference/datamodel.html):\n",
    "\n",
    "> Objects are Python’s abstraction for data. All data in a Python program is represented by objects or by relations between objects.\n",
    "\n",
    " What we commonly refer to as _variables_ in Python are more properly called _names_. \n",
    " Likewise, _assignment_ is really the _binding_ of a _name_ to an _object_. \n",
    " Each _binding_ has a scope that defines its visibility, usually the block in which the name originates."
   ]
  },
  {
   "cell_type": "code",
   "execution_count": 5,
   "metadata": {
    "collapsed": true,
    "jupyter": {
     "outputs_hidden": true
    }
   },
   "outputs": [],
   "source": [
    "some_guy = 'Fred'\n",
    "# ...\n",
    "some_guy = 'George'"
   ]
  },
  {
   "cell_type": "markdown",
   "metadata": {},
   "source": [
    "On line 1, we create a _binding_ between a _name_, `some_guy`, and a string _object_ containing 'Fred'. \n",
    "In the context of program execution, the _environment_ is altered; a _binding_ of the name `some_guy` to a string _object_ is created in the _scope_ of the block where the statement occurred. \n",
    "When we later say `some_guy = 'George'`, the string _object_ containing 'Fred' is unaffected. \n",
    "We've just changed the _binding_ of the name `some_guy`. \n",
    "We haven't, however, changed either the 'Fred' or 'George' string _objects_. \n",
    "As far as we're concerned, they may live on indefinitely (see more below).\n",
    "\n",
    "## A more complex example"
   ]
  },
  {
   "cell_type": "code",
   "execution_count": 7,
   "metadata": {
    "collapsed": false,
    "jupyter": {
     "outputs_hidden": false
    }
   },
   "outputs": [
    {
     "name": "stdout",
     "output_type": "stream",
     "text": [
      "True\n"
     ]
    }
   ],
   "source": [
    "some_guy = 'Fred'\n",
    "\n",
    "first_names = []\n",
    "first_names.append(some_guy)\n",
    "print(some_guy is first_names[0])\n",
    "\n",
    "another_list_of_names = first_names\n",
    "another_list_of_names.append('George')\n",
    "some_guy = 'Bill'\n",
    "\n",
    "#print(some_guy, first_names, another_list_of_names) # what would this give?"
   ]
  },
  {
   "cell_type": "markdown",
   "metadata": {},
   "source": [
    "So what would be printed in the final line? \n",
    "\n",
    "Line 1: the _binding_ of `some_guy` to the string _object_ containing 'Fred' is added to the block's _namespace_. \n",
    "\n",
    "Line 2: the name `first_names` is bound to an empty list _object_. \n",
    "\n",
    "Line 4: a method is called on the list _object_ `first_names` is bound to, appending the _object_ `some_guy` is bound to.\n",
    "At this point, there are still only two _objects_ that exist: the string _object_ and the list _object_. \n",
    "`some_guy` and `first_names[0]` both refer to the same object (indeed, line 5 shows this).\n",
    "\n",
    "Line 7: a new _name_ is bound: `another_list_of_names`. \n",
    "Assignment between _names_ does not _create_ a new _object_. \n",
    "Rather, both _names_ are simply bound to the same _object_. \n",
    "As a result, the string _object_ and list _object_ are still the only _objects_ that have been created by the interpreter.\n",
    "\n",
    "Line 8: a member function is called on the _object_ `another_list_of_names` is bound to and it is **mutated** to contain a _reference_ to a new _object_: 'George'.\n",
    "\n",
    "Line 9: the _name_ `some_guy` is bound to a new string _object_, 'Bill'.\n",
    "\n",
    "So the output of the code is:"
   ]
  },
  {
   "cell_type": "code",
   "execution_count": 8,
   "metadata": {
    "collapsed": false,
    "jupyter": {
     "outputs_hidden": false
    }
   },
   "outputs": [
    {
     "name": "stdout",
     "output_type": "stream",
     "text": [
      "Bill ['Fred', 'George'] ['Fred', 'George']\n"
     ]
    }
   ],
   "source": [
    "print(some_guy, first_names, another_list_of_names)"
   ]
  },
  {
   "cell_type": "markdown",
   "metadata": {},
   "source": [
    "### Important point \n",
    "\n",
    "There are **two kinds of objects in Python**:\n",
    "\n",
    "- A **mutable** object exhibits time-varying behavior. Changes to a mutable object are visible through all names bound to it. Python's lists and dictionaries are examples of mutable objects. \n",
    "- An **immutable** object does not exhibit time-varying behavior. The value of immutable objects can not be modified after they are created. They can be used to compute the values of new objects.\n",
    "\n",
    "This dichotomy is necessary because, again, _everything in Python is an object_. \n",
    "\n",
    "## Functions\n",
    "\n",
    "Calling `foo(x)` creats a binding within the scope of `foo` of the name `x` to the object bounded to the function argument at the time the function is called. \n",
    "\n",
    "If `x` is bounded to a **mutable** object and `foo` changes its value, then these **changes will be have an effect outside the function scope**:"
   ]
  },
  {
   "cell_type": "code",
   "execution_count": 9,
   "metadata": {
    "collapsed": false,
    "jupyter": {
     "outputs_hidden": false
    }
   },
   "outputs": [
    {
     "name": "stdout",
     "output_type": "stream",
     "text": [
      "inside: [42]\n",
      "outside: [42]\n"
     ]
    }
   ],
   "source": [
    "def foo(x):\n",
    "    x.append(42)\n",
    "    print('inside:', x)\n",
    "\n",
    "answer = []\n",
    "foo(answer)\n",
    "print('outside:', answer)"
   ]
  },
  {
   "cell_type": "markdown",
   "metadata": {},
   "source": [
    "On the other hand, if `x` refers to an **immutable** object, the most that `foo` can do is bind `x` in its local scope to some other object, and **changes will not have an effect outside function scope**:"
   ]
  },
  {
   "cell_type": "code",
   "execution_count": 10,
   "metadata": {
    "collapsed": false,
    "jupyter": {
     "outputs_hidden": false
    }
   },
   "outputs": [
    {
     "name": "stdout",
     "output_type": "stream",
     "text": [
      "inside: new value\n",
      "outside: old value\n"
     ]
    }
   ],
   "source": [
    "def foo(x):\n",
    "    x = 'new value'\n",
    "    print('inside:', x)\n",
    "\n",
    "answer = 'old value'\n",
    "foo(answer)\n",
    "print('outside:', answer)"
   ]
  },
  {
   "cell_type": "markdown",
   "metadata": {},
   "source": [
    "## Identity\n",
    "\n",
    "Everything is an object and every object has an **identity** (and also a **type**, and a **value**)\n",
    "\n",
    "An object’s identity *never changes once it has been created*; you may *think of it* as the object’s address in memory. \n",
    "\n",
    "The `is` operator compares the identity of two objects; the `id()` function returns an integer representing its identity.\n",
    "\n",
    "**Note**: In *CPython*, `id(x)` is the memory address where `x` is stored.\n",
    "\n",
    "Some examples:"
   ]
  },
  {
   "cell_type": "code",
   "execution_count": 13,
   "metadata": {
    "collapsed": false,
    "jupyter": {
     "outputs_hidden": false
    }
   },
   "outputs": [
    {
     "name": "stdout",
     "output_type": "stream",
     "text": [
      "1481174928\n",
      "1481174960\n"
     ]
    }
   ],
   "source": [
    "x = 5\n",
    "print(id(x))\n",
    "x = 6\n",
    "print(id(x))"
   ]
  },
  {
   "cell_type": "code",
   "execution_count": 14,
   "metadata": {
    "collapsed": false,
    "jupyter": {
     "outputs_hidden": false
    }
   },
   "outputs": [
    {
     "name": "stdout",
     "output_type": "stream",
     "text": [
      "1481174960 1481174960\n",
      "True\n",
      "True\n"
     ]
    }
   ],
   "source": [
    "y = x\n",
    "print(id(x), id(y))\n",
    "print(x == y)\n",
    "print(x is y)"
   ]
  },
  {
   "cell_type": "code",
   "execution_count": 18,
   "metadata": {
    "collapsed": false,
    "jupyter": {
     "outputs_hidden": false
    }
   },
   "outputs": [
    {
     "name": "stdout",
     "output_type": "stream",
     "text": [
      "1481174928 1481174928\n",
      "True\n",
      "True\n"
     ]
    }
   ],
   "source": [
    "x = 5\n",
    "y = 5\n",
    "print(id(x), id(y))\n",
    "print(x == y)\n",
    "print(x is y)"
   ]
  },
  {
   "cell_type": "code",
   "execution_count": 19,
   "metadata": {
    "collapsed": false,
    "jupyter": {
     "outputs_hidden": false
    }
   },
   "outputs": [
    {
     "name": "stdout",
     "output_type": "stream",
     "text": [
      "1481174928 1481174800\n",
      "False\n",
      "False\n"
     ]
    }
   ],
   "source": [
    "x = 5\n",
    "y = 1\n",
    "print(id(x), id(y))\n",
    "print(x == y)\n",
    "print(x is y)"
   ]
  },
  {
   "cell_type": "code",
   "execution_count": 20,
   "metadata": {
    "collapsed": false,
    "jupyter": {
     "outputs_hidden": false
    }
   },
   "outputs": [
    {
     "name": "stdout",
     "output_type": "stream",
     "text": [
      "True\n",
      "True\n"
     ]
    }
   ],
   "source": [
    "x = \"Hello\"\n",
    "y = \"Hello\"\n",
    "print(x == y)\n",
    "print(x is y)"
   ]
  },
  {
   "cell_type": "code",
   "execution_count": 21,
   "metadata": {
    "collapsed": false,
    "jupyter": {
     "outputs_hidden": false
    }
   },
   "outputs": [
    {
     "name": "stdout",
     "output_type": "stream",
     "text": [
      "True\n",
      "False\n"
     ]
    }
   ],
   "source": [
    "x = [1, 2, 3]\n",
    "y = [1, 2, 3]\n",
    "print(x == y)\n",
    "print(x is y)"
   ]
  },
  {
   "cell_type": "markdown",
   "metadata": {},
   "source": [
    "## Live on indefinitely?\n",
    "\n",
    "Objects are **never explicitly destroyed**; however, when they become unreachable they may be **garbage-collected**. \n",
    "A Python implementation is allowed to postpone garbage collection or omit it altogether — it is a matter of implementation quality how garbage collection is implemented, as long as no objects are collected that are still reachable.\n",
    "\n",
    "_CPython_ uses a reference-counting scheme with (optional) delayed detection of cyclically linked garbage, which collects most objects **as soon as they become unreachable**, but is not guaranteed to collect garbage containing circular references.\n",
    "\n",
    "See the documentation of the `gc` module for information on controlling the collection of cyclic garbage. \n",
    "Other implementations act differently and CPython may change.\n",
    "Do not depend on immediate finalization of objects when they become unreachable (so you should always **close files explicitly** or open them inside a context manager)."
   ]
  },
  {
   "cell_type": "markdown",
   "metadata": {},
   "source": [
    "# References\n",
    "\n",
    "-  [Is Python call-by-value or call-by-reference? Neither](https://www.geeksforgeeks.org/is-python-call-by-reference-or-call-by-value/) by Jeff Knupp\n",
    "- [Drastically Improve Your Python: Understanding Python's Execution Model](http://www.jeffknupp.com/blog/2013/02/14/drastically-improve-your-python-understanding-pythons-execution-model/) by Jeff Knupp"
   ]
  },
  {
   "cell_type": "markdown",
   "metadata": {},
   "source": [
    "## Colophon\n",
    "This notebook was written by [Yoav Ram](http://python.yoavram.com)\n",
    "This work is licensed under a CC BY-NC-SA 4.0 International License.\n",
    "\n",
    "![Python logo](https://www.python.org/static/community_logos/python-logo.png)"
   ]
  }
 ],
 "metadata": {
  "kernelspec": {
   "display_name": "Python [conda env:HPCPy]",
   "language": "python",
   "name": "conda-env-HPCPy-py"
  },
  "language_info": {
   "codemirror_mode": {
    "name": "ipython",
    "version": 3
   },
   "file_extension": ".py",
   "mimetype": "text/x-python",
   "name": "python",
   "nbconvert_exporter": "python",
   "pygments_lexer": "ipython3",
   "version": "3.13.2"
  }
 },
 "nbformat": 4,
 "nbformat_minor": 4
}
