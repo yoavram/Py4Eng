{
 "cells": [
  {
   "cell_type": "markdown",
   "id": "7d157ba1-2628-4b43-a768-e8818af6de19",
   "metadata": {},
   "source": [
    "![Py4Eng](img/logo.png)\n",
    "\n",
    "# JAX: automatic differentiation, just-in-time compilation, and acceleration\n",
    "## Yoav Ram\n",
    "\n",
    "[JAX](http://jax.readthedocs.io/) is a Python library for accelerator-oriented array computation and program transformation, designed for high-performance numerical computing and large-scale machine learning.\n",
    "\n",
    "JAX combines automatic differentiation and a machine-learning specific compiler ([XLA](https://www.tensorflow.org/xla)) for high-performance numerical computing.\n",
    "\n",
    "Benefits of JAX:\n",
    "- a familiar NumPy-style API for ease of adoption,\n",
    "- composable function transformations for **compilation**, **batching/vectorization**, **automatic differentiation**, and **parallelization**,\n",
    "- The same code executes on multiple backend accelerators, including CPU, GPU, and TPU (Google's GPU)\n",
    "\n",
    "JAX allows us to just-in-time compile functions and importantly to compute gradients automatically. We will see these features as we proceed."
   ]
  },
  {
   "cell_type": "code",
   "execution_count": 19,
   "id": "4d2b7892-0bf1-45a5-a39a-94cc1a2a3159",
   "metadata": {},
   "outputs": [
    {
     "name": "stdout",
     "output_type": "stream",
     "text": [
      "JAX 0.5.2 on cpu\n"
     ]
    }
   ],
   "source": [
    "%matplotlib inline\n",
    "import matplotlib.pyplot as plt\n",
    "import jax\n",
    "import jax.numpy as np\n",
    "print('JAX', jax.__version__, \"on\", jax.default_backend())"
   ]
  },
  {
   "cell_type": "markdown",
   "id": "79a06bd2-27c2-4f1c-9ab8-f7c919a4f9c3",
   "metadata": {},
   "source": [
    "# Differences from standard NumPy\n",
    "\n",
    "When using JAX we can mostly use the NumPy API, with specific differences:\n",
    "- JAX arrays are immutable so we cannot use item assignment (`arr[i] = x` is not allowed)\n",
    "- random number generations requires us to provide a random key at every call because the random number generator is stateless.|\n",
    "\n",
    "## Setting elements of an array\n",
    "\n",
    "Since JAX arrays are immutable, we cannot set to an array as we would in NumPy, that is, we cannot do\n",
    "```python\n",
    "arr[i] = 5\n",
    "```\n",
    "Instead, we can use a JAX equivalent\n",
    "```python\n",
    "arr = arr.at[i].set(5)\n",
    "```\n",
    "This creates a new array with 5 at index `i` and sets the new array to the variable name `arr`.\n",
    "However, during compilation, the compiler can decide to apply the item assignment in place instead of creating a new array.\n",
    "\n",
    "Here's an example in a function that generates the first 1000 Bernoulli numbers, defined by\n",
    "$$\n",
    "a_i = a_{i-1} + a_{i-2}, \\quad\n",
    "a_0 = 1, \\quad\n",
    "a_1 = 2\n",
    "$$"
   ]
  },
  {
   "cell_type": "code",
   "execution_count": 61,
   "id": "310f0b5c-be96-4402-853a-c92d1fdee38c",
   "metadata": {},
   "outputs": [
    {
     "name": "stdout",
     "output_type": "stream",
     "text": [
      "243 ms ± 4.05 ms per loop (mean ± std. dev. of 7 runs, 1 loop each)\n"
     ]
    }
   ],
   "source": [
    "def bernoulli():\n",
    "    n = 1000\n",
    "    a = np.zeros(n)\n",
    "    a = a.at[0].set(1)\n",
    "    a = a.at[1].set(2)\n",
    "    for i in range(2, n):\n",
    "        a = a.at[i].set(a[i-1] + a[i-2])\n",
    "    return a\n",
    "\n",
    "%timeit bernoulli();"
   ]
  },
  {
   "cell_type": "markdown",
   "id": "7cfbcf80-71de-4105-a0f5-598d27c48832",
   "metadata": {},
   "source": [
    "Compiling this, we can a huge improvement:"
   ]
  },
  {
   "cell_type": "code",
   "execution_count": 62,
   "id": "fed2c8ce-700a-42e4-b3e6-8195cea74b4d",
   "metadata": {},
   "outputs": [
    {
     "name": "stdout",
     "output_type": "stream",
     "text": [
      "3.13 μs ± 30.5 ns per loop (mean ± std. dev. of 7 runs, 100,000 loops each)\n"
     ]
    }
   ],
   "source": [
    "bernoulli = jax.jit(bernoulli)\n",
    "bernoulli();\n",
    "%timeit bernoulli();"
   ]
  },
  {
   "cell_type": "markdown",
   "id": "1fcb8b83-5914-4c81-b1c6-db917b628c74",
   "metadata": {},
   "source": [
    "# Static arguments\n",
    "\n",
    "If we want the `bernoulli` function to take the value of `n` from the user, we cannot compile it this way."
   ]
  },
  {
   "cell_type": "code",
   "execution_count": 75,
   "id": "29604d18-1611-42d4-bcb3-ed54b0f66c15",
   "metadata": {},
   "outputs": [
    {
     "ename": "TypeError",
     "evalue": "Shapes must be 1D sequences of concrete values of integer type, got (Traced<ShapedArray(int32[], weak_type=True)>with<DynamicJaxprTrace>,).\nIf using `jit`, try using `static_argnums` or applying `jit` to smaller subfunctions.\nThe error occurred while tracing the function bernoulli at /var/folders/vc/qm7741c57dsg9f7wyrtrdrrm0000gq/T/ipykernel_53351/1599531239.py:1 for jit. This concrete value was not available in Python because it depends on the value of the argument n.",
     "output_type": "error",
     "traceback": [
      "\u001b[31m---------------------------------------------------------------------------\u001b[39m",
      "\u001b[31mTypeError\u001b[39m                                 Traceback (most recent call last)",
      "\u001b[36mCell\u001b[39m\u001b[36m \u001b[39m\u001b[32mIn[75]\u001b[39m\u001b[32m, line 10\u001b[39m\n\u001b[32m      7\u001b[39m         a = a.at[i].set(a[i-\u001b[32m1\u001b[39m] + a[i-\u001b[32m2\u001b[39m])\n\u001b[32m      8\u001b[39m     \u001b[38;5;28;01mreturn\u001b[39;00m a\n\u001b[32m---> \u001b[39m\u001b[32m10\u001b[39m \u001b[43mbernoulli\u001b[49m\u001b[43m(\u001b[49m\u001b[32;43m10\u001b[39;49m\u001b[43m)\u001b[49m\n",
      "    \u001b[31m[... skipping hidden 13 frame]\u001b[39m\n",
      "\u001b[36mCell\u001b[39m\u001b[36m \u001b[39m\u001b[32mIn[75]\u001b[39m\u001b[32m, line 3\u001b[39m, in \u001b[36mbernoulli\u001b[39m\u001b[34m(n)\u001b[39m\n\u001b[32m      1\u001b[39m \u001b[38;5;129m@jax\u001b[39m.jit\n\u001b[32m      2\u001b[39m \u001b[38;5;28;01mdef\u001b[39;00m\u001b[38;5;250m \u001b[39m\u001b[34mbernoulli\u001b[39m(n):\n\u001b[32m----> \u001b[39m\u001b[32m3\u001b[39m     a = \u001b[43mnp\u001b[49m\u001b[43m.\u001b[49m\u001b[43mzeros\u001b[49m\u001b[43m(\u001b[49m\u001b[43mn\u001b[49m\u001b[43m)\u001b[49m\n\u001b[32m      4\u001b[39m     a = a.at[\u001b[32m0\u001b[39m].set(\u001b[32m1\u001b[39m)\n\u001b[32m      5\u001b[39m     a = a.at[\u001b[32m1\u001b[39m].set(\u001b[32m2\u001b[39m)\n",
      "\u001b[36mFile \u001b[39m\u001b[32m~/miniforge3/envs/HPCPy/lib/python3.13/site-packages/jax/_src/numpy/array_creation.py:77\u001b[39m, in \u001b[36mzeros\u001b[39m\u001b[34m(shape, dtype, device)\u001b[39m\n\u001b[32m     75\u001b[39m \u001b[38;5;28;01mif\u001b[39;00m (m := _check_forgot_shape_tuple(\u001b[33m\"\u001b[39m\u001b[33mzeros\u001b[39m\u001b[33m\"\u001b[39m, shape, dtype)): \u001b[38;5;28;01mraise\u001b[39;00m \u001b[38;5;167;01mTypeError\u001b[39;00m(m)\n\u001b[32m     76\u001b[39m dtypes.check_user_dtype_supported(dtype, \u001b[33m\"\u001b[39m\u001b[33mzeros\u001b[39m\u001b[33m\"\u001b[39m)\n\u001b[32m---> \u001b[39m\u001b[32m77\u001b[39m shape = \u001b[43mcanonicalize_shape\u001b[49m\u001b[43m(\u001b[49m\u001b[43mshape\u001b[49m\u001b[43m)\u001b[49m\n\u001b[32m     78\u001b[39m \u001b[38;5;28;01mreturn\u001b[39;00m lax.full(shape, \u001b[32m0\u001b[39m, dtypes.jax_dtype(dtype), sharding=util.normalize_device_to_sharding(device))\n",
      "\u001b[36mFile \u001b[39m\u001b[32m~/miniforge3/envs/HPCPy/lib/python3.13/site-packages/jax/_src/numpy/array_creation.py:39\u001b[39m, in \u001b[36mcanonicalize_shape\u001b[39m\u001b[34m(shape, context)\u001b[39m\n\u001b[32m     36\u001b[39m \u001b[38;5;28;01mdef\u001b[39;00m\u001b[38;5;250m \u001b[39m\u001b[34mcanonicalize_shape\u001b[39m(shape: Any, context: \u001b[38;5;28mstr\u001b[39m=\u001b[33m\"\u001b[39m\u001b[33m\"\u001b[39m) -> core.Shape:\n\u001b[32m     37\u001b[39m   \u001b[38;5;28;01mif\u001b[39;00m (\u001b[38;5;129;01mnot\u001b[39;00m \u001b[38;5;28misinstance\u001b[39m(shape, (\u001b[38;5;28mtuple\u001b[39m, \u001b[38;5;28mlist\u001b[39m)) \u001b[38;5;129;01mand\u001b[39;00m\n\u001b[32m     38\u001b[39m       (\u001b[38;5;28mgetattr\u001b[39m(shape, \u001b[33m'\u001b[39m\u001b[33mndim\u001b[39m\u001b[33m'\u001b[39m, \u001b[38;5;28;01mNone\u001b[39;00m) == \u001b[32m0\u001b[39m \u001b[38;5;129;01mor\u001b[39;00m np.ndim(shape) == \u001b[32m0\u001b[39m)):\n\u001b[32m---> \u001b[39m\u001b[32m39\u001b[39m     \u001b[38;5;28;01mreturn\u001b[39;00m \u001b[43mcore\u001b[49m\u001b[43m.\u001b[49m\u001b[43mcanonicalize_shape\u001b[49m\u001b[43m(\u001b[49m\u001b[43m(\u001b[49m\u001b[43mshape\u001b[49m\u001b[43m,\u001b[49m\u001b[43m)\u001b[49m\u001b[43m,\u001b[49m\u001b[43m \u001b[49m\u001b[43mcontext\u001b[49m\u001b[43m)\u001b[49m\n\u001b[32m     40\u001b[39m   \u001b[38;5;28;01melse\u001b[39;00m:\n\u001b[32m     41\u001b[39m     \u001b[38;5;28;01mreturn\u001b[39;00m core.canonicalize_shape(shape, context)\n",
      "\u001b[36mFile \u001b[39m\u001b[32m~/miniforge3/envs/HPCPy/lib/python3.13/site-packages/jax/_src/core.py:1717\u001b[39m, in \u001b[36mcanonicalize_shape\u001b[39m\u001b[34m(shape, context)\u001b[39m\n\u001b[32m   1715\u001b[39m \u001b[38;5;28;01mexcept\u001b[39;00m \u001b[38;5;167;01mTypeError\u001b[39;00m:\n\u001b[32m   1716\u001b[39m   \u001b[38;5;28;01mpass\u001b[39;00m\n\u001b[32m-> \u001b[39m\u001b[32m1717\u001b[39m \u001b[38;5;28;01mraise\u001b[39;00m _invalid_shape_error(shape, context)\n",
      "\u001b[31mTypeError\u001b[39m: Shapes must be 1D sequences of concrete values of integer type, got (Traced<ShapedArray(int32[], weak_type=True)>with<DynamicJaxprTrace>,).\nIf using `jit`, try using `static_argnums` or applying `jit` to smaller subfunctions.\nThe error occurred while tracing the function bernoulli at /var/folders/vc/qm7741c57dsg9f7wyrtrdrrm0000gq/T/ipykernel_53351/1599531239.py:1 for jit. This concrete value was not available in Python because it depends on the value of the argument n."
     ]
    }
   ],
   "source": [
    "@jax.jit\n",
    "def bernoulli(n):\n",
    "    a = np.zeros(n)\n",
    "    a = a.at[0].set(1)\n",
    "    a = a.at[1].set(2)\n",
    "    for i in range(2, n):\n",
    "        a = a.at[i].set(a[i-1] + a[i-2])\n",
    "    return a\n",
    "\n",
    "bernoulli(10)"
   ]
  },
  {
   "cell_type": "markdown",
   "id": "306cd310-98e8-45e5-9481-07a8008d02da",
   "metadata": {},
   "source": [
    "This occurs because the shape of an array (in `np.zeros(n)`) cannot be set to a traced value, which is what the arguments of a function are, by default. So we can set `n` to be a static argument. This means, however, that when the function is compiled, it is compiled for a specific *value* of `n` rather than a specific *type* of `n`. So in this case, it defeats the purpose, as we are not going to call the function on the same value of `n` more than once."
   ]
  },
  {
   "cell_type": "code",
   "execution_count": 80,
   "id": "4c2c3967-7f8a-48f5-a13f-bab8d8e9b5a2",
   "metadata": {},
   "outputs": [],
   "source": [
    "def bernoulli(n):\n",
    "    a = np.zeros(n)\n",
    "    a = a.at[0].set(1)\n",
    "    a = a.at[1].set(2)\n",
    "    for i in range(2, n):\n",
    "        a = a.at[i].set(a[i-1] + a[i-2])\n",
    "    return a\n",
    "\n",
    "bernoulli = jax.jit(bernoulli, static_argnames='n')\n",
    "bernoulli(1000);"
   ]
  },
  {
   "cell_type": "code",
   "execution_count": 81,
   "id": "ae2ba462-61ed-484d-8813-0c91e5852222",
   "metadata": {},
   "outputs": [
    {
     "name": "stdout",
     "output_type": "stream",
     "text": [
      "3.28 μs ± 140 ns per loop (mean ± std. dev. of 7 runs, 100,000 loops each)\n"
     ]
    }
   ],
   "source": [
    "%timeit bernoulli(1000);"
   ]
  },
  {
   "cell_type": "markdown",
   "id": "380c0d6a-bbb3-4b5d-b3e8-739b9ad53066",
   "metadata": {},
   "source": [
    "## Random number generation\n",
    "\n",
    "We use an example from the Numba session: estimating $\\pi$ using sampling.\n",
    "\n",
    "We copy the NumPy implementation, but we need to use JAX's random number generator, which requires a key. It is easy enough, we just create a key using `jax.random.key(k)` where `k` is the integer key. Given a value of `k`, the sequence of random numbers is determined and replicable."
   ]
  },
  {
   "cell_type": "code",
   "execution_count": 49,
   "id": "85b8bec9-bff1-4c33-9380-afbcb35f7ac7",
   "metadata": {},
   "outputs": [],
   "source": [
    "def estimate_π(key, n):\n",
    "    x, y = jax.random.uniform(key, shape=(2, n))\n",
    "    accept = x*x + y*y < 1\n",
    "    return accept.mean()*4"
   ]
  },
  {
   "cell_type": "code",
   "execution_count": 50,
   "id": "75abdb13-0a60-4edc-983e-76d7d74e4249",
   "metadata": {},
   "outputs": [
    {
     "name": "stdout",
     "output_type": "stream",
     "text": [
      "3.66 ms ± 47 μs per loop (mean ± std. dev. of 7 runs, 100 loops each)\n"
     ]
    }
   ],
   "source": [
    "n = 1000000\n",
    "key = jax.random.key(12)\n",
    "%timeit estimate_π(key, n)"
   ]
  },
  {
   "cell_type": "markdown",
   "id": "a78aefb5-872e-47a2-b823-4ab151483b4e",
   "metadata": {},
   "source": [
    "This is already faster than NumPy, which took about 10 ms.\n",
    "In this case, jit-compiling the function will not improve runtime."
   ]
  },
  {
   "cell_type": "markdown",
   "id": "77629ecd-38dd-416a-ab2a-d96480ed9e63",
   "metadata": {},
   "source": [
    "# References\n",
    "\n",
    "- [Comparison on NumPy, Numba, JAX, and C on Mandelbrot's fractal](https://gist.github.com/jpivarski/da343abd8024834ee8c5aaba691aafc7)"
   ]
  },
  {
   "cell_type": "markdown",
   "id": "05e4ba44-4087-451d-be1b-f961462292a8",
   "metadata": {},
   "source": [
    "# Colophon\n",
    "This notebook was written by [Yoav Ram](http://python.yoavram.com).\n",
    "\n",
    "This work is licensed under a CC BY-NC-SA 4.0 International License.\n",
    "\n",
    "![Python logo](https://www.python.org/static/community_logos/python-logo.png)"
   ]
  }
 ],
 "metadata": {
  "kernelspec": {
   "display_name": "Python [conda env:HPCPy]",
   "language": "python",
   "name": "conda-env-HPCPy-py"
  },
  "language_info": {
   "codemirror_mode": {
    "name": "ipython",
    "version": 3
   },
   "file_extension": ".py",
   "mimetype": "text/x-python",
   "name": "python",
   "nbconvert_exporter": "python",
   "pygments_lexer": "ipython3",
   "version": "3.13.2"
  }
 },
 "nbformat": 4,
 "nbformat_minor": 5
}
