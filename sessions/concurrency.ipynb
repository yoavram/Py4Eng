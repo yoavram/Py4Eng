{
 "cells": [
  {
   "cell_type": "markdown",
   "metadata": {},
   "source": [
    "![Py4Eng](img/logo.png)\n",
    "\n",
    "# Concurrency\n",
    "## Yoav Ram"
   ]
  },
  {
   "cell_type": "markdown",
   "metadata": {},
   "source": [
    "# Threading\n",
    "\n",
    "Threads are very useful for maintaining multiple program flows running (quasi-)simultaneously. \n",
    "In Python, threads are real system threads and are managed by the operating system.\n",
    "\n",
    "But CPython, the standard Python implementation, is not thread-safe, so the [Global Interperter Lock (**GIL**)](http://www.dabeaz.com/GIL) allows only one thread to execute at any given time. Therefore, the main benefit from threading is that one waiting job (I/O, sleep, waiting for user event) doesn't block other jobs from running. Or as the saying goes, threads are good for doing nothing: waiting mostly.\n",
    "\n",
    "## Simple example\n",
    "\n",
    "A worker thread that counts from 1 to 10, waiting one second between numbers, but doesn't block the main thread that counts from 11 to 20 (also waiting). \n",
    "\n",
    "We use the [threading](https://docs.python.org/3.5/library/threading.html) module from the standard library."
   ]
  },
  {
   "cell_type": "code",
   "execution_count": 1,
   "metadata": {},
   "outputs": [],
   "source": [
    "import threading\n",
    "import time"
   ]
  },
  {
   "cell_type": "code",
   "execution_count": 2,
   "metadata": {},
   "outputs": [],
   "source": [
    "def task(start, end):\n",
    "    for i in range(start, end):\n",
    "        print(\" {} \".format(i), end=\"\", flush=True)\n",
    "        time.sleep(1)"
   ]
  },
  {
   "cell_type": "code",
   "execution_count": 3,
   "metadata": {},
   "outputs": [
    {
     "name": "stdout",
     "output_type": "stream",
     "text": [
      " 1  11  12  2  3  13  4  14  5  15  6  16  7  17  8  18  19  9 "
     ]
    }
   ],
   "source": [
    "worker = threading.Thread(target=task, args=(1, 10))\n",
    "worker.start()\n",
    "task(11, 20)\n",
    "worker.join()"
   ]
  },
  {
   "cell_type": "markdown",
   "metadata": {},
   "source": [
    "## Threads I/O bounded programs"
   ]
  },
  {
   "cell_type": "markdown",
   "metadata": {},
   "source": [
    "When we do any kind of I/O, the GIL is released as soon as control is given to the OS or to lower-level C code. So threads are great for concurrency in I/O bounded programs, because as one thread waits for I/O, other threads can go on doing their jobs, as the GIL is released. This is true as long as I/O is not very quick and there are not too many concurrent jobs; if there are many concurrent short jobs, they will start a [GIL war](http://www.dabeaz.com/GIL/), which is bad for performence.\n",
    "\n",
    "Let's start with a synchrounous program that reads books from the Gutenberg project and finds the most common word. Finding the most common word takes a while, but a lot less than reading the data from the web, so this is definately an I/O-bounded program."
   ]
  },
  {
   "cell_type": "code",
   "execution_count": 4,
   "metadata": {},
   "outputs": [],
   "source": [
    "from collections import Counter\n",
    "import urllib.request\n",
    "import time"
   ]
  },
  {
   "cell_type": "markdown",
   "metadata": {},
   "source": [
    "We download and parse a [set of stop words](https://github.com/Alir3z4/stop-words/raw/25c6a0aea665871e887f155b883e950c3743ce50/english.txt) not to be included in the analysis:\n",
    "\n",
    "For this we use `urlopen` which opens a remote URL as if it was a file, allowing us to read line-by-line. We then `decode` each line, as `urlopen` reads data as `bytes` rather than `str`, and `decode` wil decode those bytes to a string. \n",
    "We then use `strip` to remove whitespace. `words` is therefore a generator expression on the single lines in the URL, each a word; we thus consume the generator with the constructor of `frozenset`, an immutable set."
   ]
  },
  {
   "cell_type": "code",
   "execution_count": 6,
   "metadata": {},
   "outputs": [
    {
     "name": "stdout",
     "output_type": "stream",
     "text": [
      "['off', 'between', 'no', 'their', 'who']\n"
     ]
    }
   ],
   "source": [
    "stop_words_url = 'https://github.com/Alir3z4/stop-words/raw/25c6a0aea665871e887f155b883e950c3743ce50/english.txt'\n",
    "\n",
    "with urllib.request.urlopen(stop_words_url) as f:\n",
    "    words = (line.decode().strip() for line in f)\n",
    "    stop_words = frozenset(words)\n",
    "\n",
    "print(list(stop_words)[:5])"
   ]
  },
  {
   "cell_type": "markdown",
   "metadata": {},
   "source": [
    "We will read a bunch of books (see `names`) and parse them for the most common word (`most_common_word`).\n",
    "\n",
    "First, create a tuple of the book names, and a dictionary that maps book names to book URLs."
   ]
  },
  {
   "cell_type": "code",
   "execution_count": 8,
   "metadata": {},
   "outputs": [
    {
     "name": "stdout",
     "output_type": "stream",
     "text": [
      "Gulliver: https://raw.githubusercontent.com/yoavram/Py4Eng/master/data/Gulliver.txt\n"
     ]
    }
   ],
   "source": [
    "names = (\n",
    "    'Gulliver',\n",
    "    'Alice in Wonderland',\n",
    "    'Pride and prejudice',\n",
    "    'Yellow wallpaper',\n",
    "    'Metamorphosis',\n",
    "    'A Tale of Two Cities',\n",
    "    'The Importance of Being Earnest',\n",
    "    'Frankenstein'\n",
    ")\n",
    "url_template = 'https://raw.githubusercontent.com/yoavram/Py4Eng/master/data/{}.txt'\n",
    "urls = {\n",
    "    name: urllib.parse.quote(url_template.format(name), safe=\":/\") \n",
    "    for name in names\n",
    "}\n",
    "print('Gulliver:', urls['Gulliver'])"
   ]
  },
  {
   "cell_type": "markdown",
   "metadata": {},
   "source": [
    "The `most_cmmon_word` function accepts a `book_item` which is a tuple of `(name, url)`, opens the URL for reading, reads the \"file\" line-by-line, and for each line it decodes, strips, lowers, and splits. Therefore, each lines is converted to a list of lowercase words.\n",
    "These words are then added to a `Counter` object, which is similar to a `set`, only it remembers **how many times** each element was added, and it allows to query about number of occurences and most common elements.\n",
    "\n",
    "The function returns the name of the book, the most common word, and the count for the most common word, after zeroing the count for stop-words."
   ]
  },
  {
   "cell_type": "code",
   "execution_count": 9,
   "metadata": {},
   "outputs": [],
   "source": [
    "def most_common_word(book_item):\n",
    "    name, url = book_item\n",
    "    counter = Counter()\n",
    "    with urllib.request.urlopen(url) as f:        \n",
    "        for line in f:        \n",
    "            if not line:\n",
    "                break\n",
    "            line = line.decode().strip().lower().split()\n",
    "            counter.update(line)\n",
    "    for word in stop_words:\n",
    "        counter[word] = 0\n",
    "    word, count = counter.most_common(1)[0] # [0] gives only the first most common word\n",
    "    return name, word, count"
   ]
  },
  {
   "cell_type": "markdown",
   "metadata": {},
   "source": [
    "### Sequential run\n",
    "\n",
    "We start by running the analysis in sequence using a single thread to get a baseline.\n",
    "\n",
    "Note that a `map` applies a function to elements of an iterable using lazy evaluation\n",
    "```python\n",
    "results = map(most_common_word, urls.items())\n",
    "```\n",
    "very similar to the generator expression\n",
    "```python\n",
    "results = (most_common_word(item) for item in urls.items())\n",
    "```"
   ]
  },
  {
   "cell_type": "code",
   "execution_count": 9,
   "metadata": {},
   "outputs": [
    {
     "name": "stdout",
     "output_type": "stream",
     "text": [
      "Most common word in Metamorphosis  is \"gregor\" (168 appearances)\n",
      "Most common word in The Importance of Being Earnest is \"jack.\" (224 appearances)\n",
      "Most common word in Yellow wallpaper is \"project\" (82 appearances)\n",
      "Most common word in Alice in Wonderland is \"said\" (130 appearances)\n",
      "Most common word in Pride and prejudice is \"mr.\" (766 appearances)\n",
      "Most common word in Gulliver is \"upon\" (201 appearances)\n",
      "Most common word in Frankenstein is \"will\" (194 appearances)\n",
      "Most common word in A Tale of Two Cities is \"mr.\" (602 appearances)\n",
      "Elapsed time: 10.06 seconds\n"
     ]
    }
   ],
   "source": [
    "%%time\n",
    "results = map(most_common_word, urls.items())\n",
    "for name, word, count in results:\n",
    "    print('Most common word in {} is \"{}\" ({} appearances)'.format(name, word, count))"
   ]
  },
  {
   "cell_type": "markdown",
   "metadata": {},
   "source": [
    "### Multi-threading\n",
    "\n",
    "To run a multi-threaded version of the above, we could use `threading` and create our threads etc., but there is a lot of boilerplate. This boilerplate can be handeled by a thread pool from the [concurrent.futures](https://docs.python.org/3/library/concurrent.futures.html) module.\n",
    "The thread pool executor is created using a context manager, so that all the threads in the pool will be closed when we are done.\n",
    "Using the executor is really easy if we already used the `map` pattern."
   ]
  },
  {
   "cell_type": "code",
   "execution_count": 16,
   "metadata": {
    "collapsed": true,
    "jupyter": {
     "outputs_hidden": true
    }
   },
   "outputs": [],
   "source": [
    "import concurrent.futures\n",
    "n_workers = len(urls)"
   ]
  },
  {
   "cell_type": "code",
   "execution_count": 11,
   "metadata": {},
   "outputs": [
    {
     "name": "stdout",
     "output_type": "stream",
     "text": [
      "Most common word in Metamorphosis  is \"gregor\" (168 appearances)\n",
      "Most common word in The Importance of Being Earnest is \"jack.\" (224 appearances)\n",
      "Most common word in Yellow wallpaper is \"project\" (82 appearances)\n",
      "Most common word in Alice in Wonderland is \"said\" (130 appearances)\n",
      "Most common word in Pride and prejudice is \"mr.\" (766 appearances)\n",
      "Most common word in Gulliver is \"upon\" (201 appearances)\n",
      "Most common word in Frankenstein is \"will\" (194 appearances)\n",
      "Most common word in A Tale of Two Cities is \"mr.\" (602 appearances)\n",
      "Elapsed time: 2.78 seconds\n"
     ]
    }
   ],
   "source": [
    "%%time\n",
    "with concurrent.futures.ThreadPoolExecutor(n_workers) as executor:\n",
    "    results = executor.map(most_common_word, urls.items())\n",
    "    print(\"Most common word:\")\n",
    "    for name, word, count in results:\n",
    "        print('{}: \"{}\" ({} appearances)'.format(name, word, count))"
   ]
  },
  {
   "cell_type": "markdown",
   "metadata": {},
   "source": [
    "Much better, a 3-fold improvement in running time."
   ]
  },
  {
   "cell_type": "markdown",
   "metadata": {},
   "source": [
    "### Where are the futures?\n",
    "\n",
    "The module is called `concurrent.futures` and in the documentation you can read that you are actually creating `Future` objects. These are like promises - they represent computational tasks that will be completed; therefore, they allow for an asynchronous style of programming, as we can start a task, go on to do something else, and then either check if it finished, wait for it to finish, or a assign a callback to be called when it is finished.\n",
    "\n",
    "In the above, the `Future`s were  are handled by the executor `map` function, which creates `Future`s and waits for them to finish working. Now we will use them directly:"
   ]
  },
  {
   "cell_type": "code",
   "execution_count": 12,
   "metadata": {},
   "outputs": [
    {
     "name": "stdout",
     "output_type": "stream",
     "text": [
      "Most common word in Alice in Wonderland is \"said\" (130 appearances)\n",
      "Most common word in Yellow wallpaper is \"project\" (82 appearances)\n",
      "Most common word in Metamorphosis  is \"gregor\" (168 appearances)\n",
      "Most common word in The Importance of Being Earnest is \"jack.\" (224 appearances)\n",
      "Most common word in Frankenstein is \"will\" (194 appearances)\n",
      "Most common word in Gulliver is \"upon\" (201 appearances)\n",
      "Most common word in Pride and prejudice is \"mr.\" (766 appearances)\n",
      "Most common word in A Tale of Two Cities is \"mr.\" (602 appearances)\n",
      "Elapsed time: 3.29 seconds\n"
     ]
    }
   ],
   "source": [
    "%%time\n",
    "with concurrent.futures.ThreadPoolExecutor(n_workers) as executor:\n",
    "    futures = [\n",
    "        executor.submit(most_common_word, item) \n",
    "        for item in urls.items()\n",
    "    ]\n",
    "    print(\"Most common word:\")\n",
    "    for future in concurrent.futures.as_completed(futures):\n",
    "        name, word, count = future.result()\n",
    "        print('{}: \"{}\" ({} appearances)'.format(name, word, count))"
   ]
  },
  {
   "cell_type": "markdown",
   "metadata": {},
   "source": [
    "Here, `as_completed` allows us to iterate over the futures as they are completed, i.e. in roughly the order they finished their tasks, rather the order they were created (which is the case in the previous example)."
   ]
  },
  {
   "cell_type": "markdown",
   "metadata": {},
   "source": [
    "## CPU bounded program\n",
    "\n",
    "In some cases running multiple threads actually helps even if we are in a CPU bounded scenario, because the OS may run these threads on separate cores, and **if the code that we use releases the GIL** in some way, then we can achieve \"true multi-threading\". Note: if the code doesn't release the GIL, we will get into a [GIL war](http://www.dabeaz.com/GIL/) and performence will suffer compared to a single-core single-thread program!\n",
    "\n",
    "In the following example we calculate a hash of our books using the *very slow* function, `pbkdf2_hmac`. The [`haslib` docs](https://docs.python.org/3/library/hashlib.html) specify that if the data is larger than 2047 bit, **the GIL is released** (the computation is done in C, so the GIL can be explicitly released) and therefore if we use threads we will see an improvement on multi-core machines."
   ]
  },
  {
   "cell_type": "code",
   "execution_count": 14,
   "metadata": {},
   "outputs": [
    {
     "data": {
      "text/plain": [
       "4"
      ]
     },
     "execution_count": 14,
     "metadata": {},
     "output_type": "execute_result"
    }
   ],
   "source": [
    "import hashlib\n",
    "import binascii\n",
    "import concurrent.futures\n",
    "import time\n",
    "import multiprocessing\n",
    "multiprocessing.cpu_count()"
   ]
  },
  {
   "cell_type": "markdown",
   "metadata": {},
   "source": [
    "Of course, if the number of CPUs is 1 (see last command in previous cell), we won't get any benefit from a multi-threading approach - on the contrary."
   ]
  },
  {
   "cell_type": "markdown",
   "metadata": {},
   "source": [
    "## Exercise\n",
    "\n",
    "We start by reading books to memory so that I/O won't be an issue. Fill in the missing code, which should use the `read_book` function on the `filenames` dict to read the books from the local filesystem into a dictionary called `books`. Keys are the book names, values are the book texts."
   ]
  },
  {
   "cell_type": "code",
   "execution_count": 15,
   "metadata": {},
   "outputs": [
    {
     "name": "stdout",
     "output_type": "stream",
     "text": [
      "Gulliver: ../data/Gulliver.txt\n"
     ]
    }
   ],
   "source": [
    "names = (\n",
    "    'Gulliver',\n",
    "    'Alice in Wonderland',\n",
    "    'Pride and prejudice',\n",
    "    'Yellow wallpaper',\n",
    "    'Metamorphosis',\n",
    "    'The Importance of Being Earnest'\n",
    ")\n",
    "filenames = {\n",
    "    name: '../data/{}.txt'.format(name) \n",
    "    for name in names\n",
    "}\n",
    "print('Gulliver:', filenames['Gulliver'])"
   ]
  },
  {
   "cell_type": "code",
   "execution_count": 24,
   "metadata": {
    "collapsed": true,
    "jupyter": {
     "outputs_hidden": true
    }
   },
   "outputs": [],
   "source": [
    "def read_book(item):\n",
    "    name, filename = item    \n",
    "    with open(filename) as f:\n",
    "        data = f.read()        \n",
    "        return name, data\n",
    "\n",
    "# Your code here"
   ]
  },
  {
   "cell_type": "markdown",
   "metadata": {},
   "source": [
    "## CPU bounded - continued"
   ]
  },
  {
   "cell_type": "markdown",
   "metadata": {},
   "source": [
    "`hash_book` is a slow function that takes an entire book and performs a specific [hash function](https://docs.python.org/3/library/hashlib.html#hashlib.pbkdf2_hmac) on it with multiple iterations."
   ]
  },
  {
   "cell_type": "code",
   "execution_count": 29,
   "metadata": {},
   "outputs": [
    {
     "name": "stdout",
     "output_type": "stream",
     "text": [
      "3 loops, best of 3: 1.04 s per loop\n"
     ]
    }
   ],
   "source": [
    "def hash_book(item):\n",
    "    name, data = item    \n",
    "    # very slow function\n",
    "    fingerprint = hashlib.pbkdf2_hmac('sha512', data.encode('utf8'), b'salt', 1000000)\n",
    "    return name, binascii.hexlify(fingerprint).decode()\n",
    "\n",
    "%timeit -n 3 hash_book(('Gulliver', books['Gulliver']))"
   ]
  },
  {
   "cell_type": "markdown",
   "metadata": {},
   "source": [
    "### Sequential\n",
    "\n",
    "Running in a single-thread mode - open your process monitor to see that only one core is used:"
   ]
  },
  {
   "cell_type": "code",
   "execution_count": 30,
   "metadata": {},
   "outputs": [
    {
     "name": "stdout",
     "output_type": "stream",
     "text": [
      "Fingerprint for Gulliver is \"279397822ce37e80b9235eb01370875546d5d5e92bb6b6d1c4d74d1fcc21a397ef42edbff782b18d27a1aa9941d73c65941f96717da62f680c11defa4c285ba1\"\n",
      "Fingerprint for Alice in Wonderland is \"71a49a0fa0d36338e3072c4cff1649b2db1ad788b829613015d5e557bcf8c03ff498ac1ec1d11365ca9d70be73b791b260976caf5322d624fc21aebdf99bab9d\"\n",
      "Fingerprint for Pride and prejudice is \"216f57cef336e96218f07d50ae1f7ab34fc42d5d4144e803595139dbd59010b8861a0ce14c6991ac5ba394ea1e414eefee88a2e1d54d1fe6887276c55707fccc\"\n",
      "Fingerprint for Yellow wallpaper is \"6830e20c22d552077a4c64b2bfff289c8776e2f83d0e9793fa634121ec639f11133fb860416a386669b791647d7c53acdea8d9c086b90ba1d8ef20b92b2ff161\"\n",
      "Fingerprint for Metamorphosis is \"834f837094aaa5dac36fbcf090c572a40c7ac5274267e311ce26db937e3153c4ae2c1fef1453a83f56d4d46f718f337889c170c7e7a5174278f0512d3451c599\"\n",
      "Fingerprint for The Importance of Being Earnest is \"2205918c9d6ef846723b02d306320bc2560e06d53dffe74dcc64c7d0796da20438cd9b679537e56bfa2ae69c5a5a9cdc840ecb62a3ede42404676fd852118425\"\n",
      "Elapsed time: 6.54 seconds\n"
     ]
    }
   ],
   "source": [
    "%%time\n",
    "results = map(hash_book, books.items())\n",
    "for name, fingerprint in results:\n",
    "    print('{}:\\t{}'.format(name, fingerprint))"
   ]
  },
  {
   "cell_type": "markdown",
   "metadata": {},
   "source": [
    "### Multi-threaded\n",
    "\n",
    "In multi-thread mode, you'll see that all the cores are used, at least on some OS (it is OS-dependent, and requires multiple cores):"
   ]
  },
  {
   "cell_type": "code",
   "execution_count": 31,
   "metadata": {},
   "outputs": [
    {
     "name": "stdout",
     "output_type": "stream",
     "text": [
      "Fingerprint for Gulliver is \"279397822ce37e80b9235eb01370875546d5d5e92bb6b6d1c4d74d1fcc21a397ef42edbff782b18d27a1aa9941d73c65941f96717da62f680c11defa4c285ba1\"\n",
      "Fingerprint for Alice in Wonderland is \"71a49a0fa0d36338e3072c4cff1649b2db1ad788b829613015d5e557bcf8c03ff498ac1ec1d11365ca9d70be73b791b260976caf5322d624fc21aebdf99bab9d\"\n",
      "Fingerprint for Pride and prejudice is \"216f57cef336e96218f07d50ae1f7ab34fc42d5d4144e803595139dbd59010b8861a0ce14c6991ac5ba394ea1e414eefee88a2e1d54d1fe6887276c55707fccc\"\n",
      "Fingerprint for Yellow wallpaper is \"6830e20c22d552077a4c64b2bfff289c8776e2f83d0e9793fa634121ec639f11133fb860416a386669b791647d7c53acdea8d9c086b90ba1d8ef20b92b2ff161\"\n",
      "Fingerprint for Metamorphosis is \"834f837094aaa5dac36fbcf090c572a40c7ac5274267e311ce26db937e3153c4ae2c1fef1453a83f56d4d46f718f337889c170c7e7a5174278f0512d3451c599\"\n",
      "Fingerprint for The Importance of Being Earnest is \"2205918c9d6ef846723b02d306320bc2560e06d53dffe74dcc64c7d0796da20438cd9b679537e56bfa2ae69c5a5a9cdc840ecb62a3ede42404676fd852118425\"\n",
      "Elapsed time: 3.42 seconds\n"
     ]
    }
   ],
   "source": [
    "%%time\n",
    "with concurrent.futures.ThreadPoolExecutor() as executor:\n",
    "    results = executor.map(\n",
    "        hash_book, books.items()\n",
    "    )\n",
    "    for name, fingerprint in results:\n",
    "        print('{}:\\t{}'.format(name, fingerprint))"
   ]
  },
  {
   "cell_type": "markdown",
   "metadata": {},
   "source": [
    "The `concurrent.futures` module has another pool executor - a `ProcessPoolExecutor` that uses processes for the jobs. It's as easy to use as the `ThreadPoolExecutor`, but in this case no further improvement can be had by replacing `ThreadPoolExecutor` with `ProcessPoolExecutor`, at least on my machine. See [hashbook.py](../scripts/hashbook.py) for a comparison. We will come back to the process executor soon."
   ]
  },
  {
   "cell_type": "markdown",
   "metadata": {},
   "source": [
    "# Coroutines\n",
    "\n",
    "**coroutines** are functions that can be suspended and resumed, similar to generators. When doing I/O bounded async programming, coroutines can also become `Future` objects. You can think about them as lightweight threads or green threads: they are scheduled by Python, rather than the operating system, and run in the same thread and process - so not useful for CPU-bounded programs even if releasing the GIL.\n",
    "\n",
    "Coroutines are defined using `async def`. \n",
    "\n",
    "Coroutines can yield the control using the `await` statement (or `yield from` in Python < 3.5) to other coroutines, which lets the scheduler know that this coroutines in now waiting for results from another coroutine. The scheduler then schedules the other coroutine to run. This is in contrast to theads, in which control switches are managed by the operating system (and sometimes prevented by the GIL), which requires us (sometimes) to use locks and semaphors in order to make sure that our data stays \"whole\", and creates risks like GIL wars.\n",
    "\n",
    "Async programming with coroutines can enchance runtime in I/O-bouded programs, and the programmatic overhead is relatively small (as can be seen below). Moreover, coroutines are much cheaper than threads, in terms of their memory footprint, as they all live in a single interperter and thread. Therefore, we can spawn thousands of them, while we cannot afford to spawn thousands of threads.\n",
    "\n",
    "## Example\n",
    "\n",
    "Let's see an implementation of the above `most_common_word` program using async programming.\n",
    "\n",
    "- we define the coroutine, which uses the [aiohttp](http://aiohttp.readthedocs.io/en/stable/) package to read files from the web instead of the *urllib* package\n",
    "- *aiohttp* does async HTTP requests and responses (both for servers and clients)\n",
    "- we instantiate the coroutines (much like we would do with generators, rather than functions)\n",
    "- we create an event loop, using the standard library module [asyncio](https://docs.python.org/3/library/asyncio.html), which will be responsible for scheduling and driving the coroutines, and handling the switching of control between them\n",
    "- give the loop all the coroutines\n",
    "- run the loop.\n",
    "- collect the async results\n",
    "- print the results\n",
    "\n",
    "Note: to install *aiohttp*, use `pip install aiohttp`."
   ]
  },
  {
   "cell_type": "code",
   "execution_count": 21,
   "metadata": {
    "collapsed": true,
    "jupyter": {
     "outputs_hidden": true
    }
   },
   "outputs": [],
   "source": [
    "import aiohttp\n",
    "import asyncio"
   ]
  },
  {
   "cell_type": "code",
   "execution_count": 22,
   "metadata": {
    "collapsed": true,
    "jupyter": {
     "outputs_hidden": true
    }
   },
   "outputs": [],
   "source": [
    "async def most_common_word(name, url):\n",
    "    response = await aiohttp.get(url)\n",
    "    assert response.status == 200\n",
    "    counter = Counter()\n",
    "    async for line in response.content:\n",
    "        if not line:\n",
    "            break\n",
    "        line = line.decode().lower()\n",
    "        counter.update(line.split())\n",
    "    response.close()\n",
    "    for word in stop_words:\n",
    "        counter[word] = 0\n",
    "    word, count = counter.most_common(1)[0]\n",
    "    return name, word, count"
   ]
  },
  {
   "cell_type": "code",
   "execution_count": 23,
   "metadata": {},
   "outputs": [
    {
     "data": {
      "text/plain": [
       "coroutine"
      ]
     },
     "execution_count": 23,
     "metadata": {},
     "output_type": "execute_result"
    }
   ],
   "source": [
    "coros = [most_common_word(name, url) for name, url in urls.items()]\n",
    "loop = asyncio.get_event_loop()\n",
    "type(coros[0])"
   ]
  },
  {
   "cell_type": "code",
   "execution_count": 25,
   "metadata": {},
   "outputs": [
    {
     "name": "stdout",
     "output_type": "stream",
     "text": [
      "Most common word in Metamorphosis  is \"gregor\" (168 appearances)\n",
      "Most common word in Alice in Wonderland is \"said\" (130 appearances)\n",
      "Most common word in Frankenstein is \"will\" (194 appearances)\n",
      "Most common word in Yellow wallpaper is \"project\" (82 appearances)\n",
      "Most common word in The Importance of Being Earnest is \"jack.\" (224 appearances)\n",
      "Most common word in A Tale of Two Cities is \"mr.\" (602 appearances)\n",
      "Most common word in Gulliver is \"upon\" (201 appearances)\n",
      "Most common word in Pride and prejudice is \"mr.\" (766 appearances)\n",
      "Elapsed time: 2.77 seconds\n"
     ]
    }
   ],
   "source": [
    "%%time\n",
    "tasks = loop.run_until_complete(asyncio.wait(coros))\n",
    "print(\"Most common word:\")\n",
    "for t in tasks[0]:\n",
    "    name, word, count = t.result()\n",
    "    print('{}: \"{}\" ({} appearances)'.format(name, word, count))"
   ]
  },
  {
   "cell_type": "markdown",
   "metadata": {},
   "source": [
    "# Multi-processing\n",
    "\n",
    "From the [threading](https://docs.python.org/3/library/threading.html) module:\n",
    "> CPython implementation detail: In CPython, due to the Global Interpreter Lock, **only one thread can execute Python code at once**... If you want your application to make better use of the **computational resources of multi-core machines**, you are advised to use `multiprocessing` or `concurrent.futures.ProcessPoolExecutor`.\n",
    "\n",
    "The standard library module, [multiprocessing](https://docs.python.org/3/library/multiprocessing.html), provides low-level interfaces for the use of multiple processes. \n",
    "\n",
    "We will use [concurrent.futures](https://docs.python.org/3/library/concurrent.futures.html) which provides a high-level API - a process pool. If you get a persistent error about broken processes, try to restart the kernel and possibly the notebook server, then debug without the executor (non-parallel) and when it works, re-insert the executor."
   ]
  },
  {
   "cell_type": "code",
   "execution_count": 19,
   "metadata": {},
   "outputs": [],
   "source": [
    "import concurrent.futures\n",
    "import math\n",
    "\n",
    "primes = [\n",
    "    112272535095293,\n",
    "    112582705942171,\n",
    "    112272535095293,\n",
    "    115280095190773,\n",
    "    115797848077099,\n",
    "    1099726899285419,\n",
    "    3399726899288419,\n",
    "    1125828054422712,\n",
    "    237397848077029,\n",
    "]\n",
    "\n",
    "def is_prime(n):\n",
    "    if n % 2 == 0:\n",
    "        return False\n",
    "\n",
    "    sqrt_n = int(math.floor(math.sqrt(n)))\n",
    "    for i in range(3, sqrt_n + 1, 2):\n",
    "        if n % i == 0:\n",
    "            return False\n",
    "    return True"
   ]
  },
  {
   "cell_type": "code",
   "execution_count": 20,
   "metadata": {},
   "outputs": [
    {
     "name": "stdout",
     "output_type": "stream",
     "text": [
      "112272535095293 is prime: True\n",
      "112582705942171 is prime: True\n",
      "112272535095293 is prime: True\n",
      "115280095190773 is prime: True\n",
      "115797848077099 is prime: True\n",
      "1099726899285419 is prime: False\n",
      "3399726899288419 is prime: False\n",
      "1125828054422712 is prime: False\n",
      "237397848077029 is prime: False\n",
      "Elapsed time: 2.89 seconds\n"
     ]
    }
   ],
   "source": [
    "%%time\n",
    "results = map(is_prime, primes)\n",
    "for n, p in zip(primes, results):\n",
    "    print('{} is prime: {}'.format(n, p))"
   ]
  },
  {
   "cell_type": "code",
   "execution_count": 21,
   "metadata": {},
   "outputs": [
    {
     "name": "stdout",
     "output_type": "stream",
     "text": [
      "112272535095293 is prime: True\n",
      "112582705942171 is prime: True\n",
      "112272535095293 is prime: True\n",
      "115280095190773 is prime: True\n",
      "115797848077099 is prime: True\n",
      "1099726899285419 is prime: False\n",
      "3399726899288419 is prime: False\n",
      "1125828054422712 is prime: False\n",
      "237397848077029 is prime: False\n",
      "Elapsed time: 1.80 seconds\n"
     ]
    }
   ],
   "source": [
    "%%time\n",
    "with concurrent.futures.ProcessPoolExecutor() as executor:\n",
    "    results = executor.map(is_prime, primes)\n",
    "    for n, p in zip(primes, results):\n",
    "        print('{} is prime: {}'.format(n, p))"
   ]
  },
  {
   "cell_type": "markdown",
   "metadata": {},
   "source": [
    "## Exercise\n",
    "\n",
    "`os.getpid()` returns the id of the currently running process.\n",
    "Run multiple jobs on with `ProcessPoolExecutor` and check how many processes are created.\n",
    "You can also use `getppid()` to check if all of the created processes have the same parent process."
   ]
  },
  {
   "cell_type": "code",
   "execution_count": null,
   "metadata": {
    "collapsed": true,
    "jupyter": {
     "outputs_hidden": true
    }
   },
   "outputs": [],
   "source": []
  },
  {
   "cell_type": "markdown",
   "metadata": {},
   "source": [
    "# References\n",
    "\n",
    "- [General concepts in concurrency](https://learn-gevent-socketio.readthedocs.org/en/latest/general_concepts.html)\n",
    "- [Understanding the GIL](http://www.dabeaz.com/GIL/), a presentation by David Beazley, is a deep and engaing description of the old and new Python GIL.\n",
    "- [Python Concurrency From the Ground Up](https://www.youtube.com/watch?v=MCs5OvhV9S4), a video presentation by David Beazley from PyCon 2015.\n",
    "- The [threading](https://docs.python.org/3/library/threading.html) low-level module\n",
    "- The [multiprocessing](https://docs.python.org/3/library/multiprocessing.html) low-level module\n",
    "- The [concurrent.futures](https://docs.python.org/3/library/concurrent.futures.html) high-level module\n",
    "- [IPython Parallel](https://ipyparallel.readthedocs.org/) is a high-level parallelism library facilitating multi-processing even across separate machines.\n",
    "- [distributed](https://distributed.readthedocs.org/en/latest/) by Continuum is a new package that facilitates data analysis on multiple machines.\n"
   ]
  },
  {
   "cell_type": "markdown",
   "metadata": {},
   "source": [
    "## Colophon\n",
    "This notebook was written by [Yoav Ram](http://python.yoavram.com).\n",
    "This work is licensed under a CC BY-NC-SA 4.0 International License.\n",
    "\n",
    "![Python logo](https://www.python.org/static/community_logos/python-logo.png)"
   ]
  }
 ],
 "metadata": {
  "kernelspec": {
   "display_name": "Python [conda env:DataSciPy]",
   "language": "python",
   "name": "conda-env-DataSciPy-py"
  },
  "language_info": {
   "codemirror_mode": {
    "name": "ipython",
    "version": 3
   },
   "file_extension": ".py",
   "mimetype": "text/x-python",
   "name": "python",
   "nbconvert_exporter": "python",
   "pygments_lexer": "ipython3",
   "version": "3.12.7"
  }
 },
 "nbformat": 4,
 "nbformat_minor": 4
}
